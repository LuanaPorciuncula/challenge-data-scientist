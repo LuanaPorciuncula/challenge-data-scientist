{
 "cells": [
  {
   "attachments": {},
   "cell_type": "markdown",
   "metadata": {},
   "source": [
    "# Monitoramento de modelos de machine learning\n",
    "\n",
    "Cliente que consome da API para avaliação de performance e aderência\n",
    "\n",
    "*Obs. Antes de rodar o cliente, inicie o servidor `monitoring\\app\\main.py`*"
   ]
  },
  {
   "cell_type": "code",
   "execution_count": 109,
   "metadata": {},
   "outputs": [],
   "source": [
    "import json\n",
    "import requests"
   ]
  },
  {
   "attachments": {},
   "cell_type": "markdown",
   "metadata": {},
   "source": [
    "## Performance e volumetria\n",
    "Obtendo a performance do modelo para uma dada lista de registros, obtendo\n",
    " - A volumetria (quantidade de registros) para cada mês presente na lista de registros\n",
    " - O valor da área sob a curva ROC do modelo pré-treinado \"../monitoring/model.pkl\" no dado conjunto de registros."
   ]
  },
  {
   "cell_type": "code",
   "execution_count": 110,
   "metadata": {},
   "outputs": [],
   "source": [
    "def calc_performance(batch_records):\n",
    "    performance_url = 'http://127.0.0.1:8001/v1/performance/'\n",
    "\n",
    "    performance_res = requests.post(performance_url, json = batch_records)\n",
    "    print(\"Resposta da Requisição: \", performance_res.text)\n",
    "    return json.loads(performance_res.text)\n"
   ]
  },
  {
   "cell_type": "code",
   "execution_count": 111,
   "metadata": {},
   "outputs": [
    {
     "name": "stdout",
     "output_type": "stream",
     "text": [
      "Resposta da Requisição:  {\"Volumetry\":{\"3-2017\":62,\"8-2017\":72,\"1-2017\":58,\"4-2017\":49,\"6-2017\":63,\"7-2017\":74,\"5-2017\":67,\"2-2017\":55},\"Performance\":0.5751748251748252}\n"
     ]
    }
   ],
   "source": [
    "batch_records = json.load(open(\"batch_records.json\"))\n",
    "perform_json = calc_performance(batch_records)"
   ]
  },
  {
   "attachments": {},
   "cell_type": "markdown",
   "metadata": {},
   "source": [
    "Resultado da performance do modelo para a lista de registros em \"batch_records.json\""
   ]
  },
  {
   "cell_type": "code",
   "execution_count": 112,
   "metadata": {},
   "outputs": [
    {
     "name": "stdout",
     "output_type": "stream",
     "text": [
      "------------------------\n",
      "Volumetria:  [('1-2017', 58), ('2-2017', 55), ('3-2017', 62), ('4-2017', 49), ('5-2017', 67), ('6-2017', 63), ('7-2017', 74), ('8-2017', 72)]\n",
      "Performance (Área sob a curva ROC):  0.5751748251748252\n"
     ]
    }
   ],
   "source": [
    "print(\"------------------------\")\n",
    "print(\"Volumetria: \", sorted(perform_json['Volumetry'].items()))\n",
    "print(\"Performance (Área sob a curva ROC): \", perform_json['Performance'])"
   ]
  },
  {
   "attachments": {},
   "cell_type": "markdown",
   "metadata": {},
   "source": [
    "## Aderência\n",
    "Obtendo a aderência do modelo utilizando a distância distribuição de scores de uma dada base para a da distribuição vista na base de Teste.\n",
    "Utilizando o Kolmogorov–Smirnov test para calcular a distância"
   ]
  },
  {
   "cell_type": "code",
   "execution_count": 113,
   "metadata": {},
   "outputs": [],
   "source": [
    "def calc_adherence(dataset_path):\n",
    "    adherence_url = 'http://127.0.0.1:8001/v1/aderencia/'\n",
    "    \n",
    "    adherence_res = requests.post(adherence_url, json = {'dataset_path': dataset_path})\n",
    "    print(\"Resposta da Requisição: \", adherence_res.text)\n",
    "    if (adherence_res.status_code == 200):\n",
    "        return json.loads(adherence_res.text)\n",
    "    else:\n",
    "        return None"
   ]
  },
  {
   "attachments": {},
   "cell_type": "markdown",
   "metadata": {},
   "source": [
    "### Aderência do modelo - base de treino x teste"
   ]
  },
  {
   "cell_type": "code",
   "execution_count": 114,
   "metadata": {},
   "outputs": [
    {
     "name": "stdout",
     "output_type": "stream",
     "text": [
      "Resposta da Requisição:  {\"Adherence\":[0.002759858953621075,0.9605978662359891]}\n"
     ]
    }
   ],
   "source": [
    "train_dataset_path =  \"datasets/credit_01/train.gz\"\n",
    "adherence_json = calc_adherence(train_dataset_path)"
   ]
  },
  {
   "attachments": {},
   "cell_type": "markdown",
   "metadata": {},
   "source": [
    "Resultado da distância distribuição de scores da base de treino para a da distribuição vista na base de Teste"
   ]
  },
  {
   "cell_type": "code",
   "execution_count": 115,
   "metadata": {},
   "outputs": [
    {
     "name": "stdout",
     "output_type": "stream",
     "text": [
      "------------------------\n",
      "Distância da distribuição vista na base de Teste:  0.002759858953621075\n"
     ]
    }
   ],
   "source": [
    "print(\"------------------------\")\n",
    "print(\"Distância da distribuição vista na base de Teste: \", adherence_json['Adherence'][0])"
   ]
  },
  {
   "attachments": {},
   "cell_type": "markdown",
   "metadata": {},
   "source": [
    "### Aderência do modelo - base de out of time x teste"
   ]
  },
  {
   "cell_type": "code",
   "execution_count": 116,
   "metadata": {},
   "outputs": [
    {
     "name": "stdout",
     "output_type": "stream",
     "text": [
      "Resposta da Requisição:  Internal Server Error\n"
     ]
    }
   ],
   "source": [
    "oot_dataset_path =  \"datasets\\credit_01\\oot.gz\"\n",
    "adherence_json = calc_adherence(oot_dataset_path)"
   ]
  }
 ],
 "metadata": {
  "kernelspec": {
   "display_name": "DP-Neurotech",
   "language": "python",
   "name": "python3"
  },
  "language_info": {
   "codemirror_mode": {
    "name": "ipython",
    "version": 3
   },
   "file_extension": ".py",
   "mimetype": "text/x-python",
   "name": "python",
   "nbconvert_exporter": "python",
   "pygments_lexer": "ipython3",
   "version": "3.9.16"
  },
  "orig_nbformat": 4
 },
 "nbformat": 4,
 "nbformat_minor": 2
}
